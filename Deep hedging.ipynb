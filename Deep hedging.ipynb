{
 "cells": [
  {
   "cell_type": "markdown",
   "metadata": {},
   "source": [
    "import libraries"
   ]
  },
  {
   "cell_type": "code",
   "execution_count": 1,
   "metadata": {},
   "outputs": [
    {
     "name": "stderr",
     "output_type": "stream",
     "text": [
      "/Users/hanglou/anaconda3/lib/python3.6/site-packages/h5py/__init__.py:36: FutureWarning: Conversion of the second argument of issubdtype from `float` to `np.floating` is deprecated. In future, it will be treated as `np.float64 == np.dtype(float).type`.\n",
      "  from ._conv import register_converters as _register_converters\n",
      "Using TensorFlow backend.\n"
     ]
    }
   ],
   "source": [
    "import tensorflow as tf\n",
    "from keras.models import Sequential\n",
    "import numpy as np\n",
    "import matplotlib.pyplot as plt\n",
    "import keras\n",
    "from keras.models import Model\n",
    "from keras.layers import Input\n",
    "from keras.layers import Dense\n",
    "from keras.layers.merge import concatenate\n",
    "from keras import optimizers\n",
    "import keras.backend as K\n",
    "import scipy.stats as ss\n",
    "import time\n",
    "import matplotlib.cm as cm\n",
    "from mpl_toolkits.mplot3d import Axes3D"
   ]
  },
  {
   "cell_type": "markdown",
   "metadata": {},
   "source": [
    "Black-Scholes formulas"
   ]
  },
  {
   "cell_type": "code",
   "execution_count": null,
   "metadata": {},
   "outputs": [],
   "source": [
    "#Black and Scholes\n",
    "def d1(St, Sk, r, sigma, T,t):\n",
    "    return (np.log(St/Sk) + (r + sigma**2 / 2) * (T-t))/(sigma * np.sqrt(T-t))\n",
    " \n",
    "def d2(St, Sk, r, sigma,T):\n",
    "    return (np.log(St / Sk) + (r - sigma**2 / 2) * T) / (sigma * np.sqrt(T))\n",
    " \n",
    "def BlackScholes(type,St, Sk, r, sigma, T,t):\n",
    "    if type==\"C\":\n",
    "        return St * ss.norm.cdf(d1(St, Sk, r, sigma, T,t)) - Sk * np.exp(-r * T) * ss.norm.cdf(d2(St, Sk, r, sigma, T))\n",
    "    else:\n",
    "       return Sk * np.exp(-r * T) * ss.norm.cdf(-d2(St, Sk, r, sigma, T)) - St * ss.norm.cdf(-d1(St, Sk, r, sigma, T,t))\n"
   ]
  },
  {
   "cell_type": "markdown",
   "metadata": {},
   "source": [
    "# Model 1: fixed sigma in the Black-Scholes model\n"
   ]
  },
  {
   "cell_type": "markdown",
   "metadata": {},
   "source": [
    "Data simulations for Model 1, fixed sigma in the Black-Scholes model"
   ]
  },
  {
   "cell_type": "code",
   "execution_count": null,
   "metadata": {},
   "outputs": [],
   "source": [
    "n=100\n",
    "W_incre=np.random.normal(0,1/10,(int(1e5),n))\n",
    "W=np.concatenate((np.zeros((int(1e5),1)),np.cumsum(W_incre,axis=1)),axis=1)\n",
    "t=np.linspace(0,1,100+1)\n",
    "mu,sigma=0,0.1\n",
    "S0=10\n",
    "S=S0*np.exp((mu-1/2*sigma**2)*t+sigma*W)"
   ]
  },
  {
   "cell_type": "code",
   "execution_count": null,
   "metadata": {},
   "outputs": [],
   "source": [
    "fig = pylab.figure()    \n",
    "ax = fig.add_subplot(1,1,1)\n",
    "ax.set_axisbelow(True)\n",
    "ax.yaxis.grid(color='gray', linestyle='dashed')\n",
    "plt.rcParams['figure.figsize']=\"20,7\"\n",
    "plt.rcParams.update({'font.size': 20})\n",
    "plt.plot(t,S[0,:],t,S[1,:],t,S[2,:])\n",
    "line1,=plt.plot(t,np.zeros(101)+10,linestyle='dotted',label='Strike price',color='red')\n",
    "first_legend = plt.legend(handles=[line1], loc=1)\n",
    "plt.title('Hedging European call option ')\n",
    "plt.ylabel('Stock price')"
   ]
  },
  {
   "cell_type": "code",
   "execution_count": null,
   "metadata": {},
   "outputs": [],
   "source": [
    "fig = pylab.figure()    \n",
    "ax = fig.add_subplot(1,1,1)\n",
    "ax.set_axisbelow(True)\n",
    "ax.yaxis.grid(color='gray', linestyle='dashed')\n",
    "plt.rcParams['figure.figsize']=\"20,7\"\n",
    "plt.rcParams.update({'font.size': 20})\n",
    "plt.plot(t,S[0,:],t,S[1,:],t,S[2,:])\n",
    "line1,=plt.plot(t,np.zeros(101)+10,linestyle='dotted',label='Strike price',color='red')\n",
    "first_legend = plt.legend(handles=[line1], loc=1)\n",
    "plt.title('Hedging European call option ')\n",
    "plt.ylabel('Stock price')"
   ]
  },
  {
   "cell_type": "markdown",
   "metadata": {},
   "source": [
    "Black-Schole delta"
   ]
  },
  {
   "cell_type": "code",
   "execution_count": null,
   "metadata": {},
   "outputs": [],
   "source": [
    "Delta=np.zeros((100000,100))\n",
    "for i in range(100000):\n",
    "    for j in range(100):\n",
    "        Delta[i,j]=ss.norm.cdf(d1(S[i,j],8,0,0.1,1,t[j]))\n",
    "        "
   ]
  },
  {
   "cell_type": "markdown",
   "metadata": {},
   "source": [
    "BS call option price"
   ]
  },
  {
   "cell_type": "code",
   "execution_count": null,
   "metadata": {},
   "outputs": [],
   "source": [
    "V_0=BlackScholes(\"C\",10,10,0,0.1,1,0)\n",
    "V_0"
   ]
  },
  {
   "cell_type": "markdown",
   "metadata": {},
   "source": [
    "loss function"
   ]
  },
  {
   "cell_type": "code",
   "execution_count": null,
   "metadata": {},
   "outputs": [],
   "source": [
    "def Customloss(trueval,predictions):\n",
    "    loss= K.square(V_0+K.sum(predictions*trueval,axis=-1)-K.maximum(S0+K.sum(trueval,axis=-1)-8,0.))\n",
    "    return loss"
   ]
  },
  {
   "cell_type": "markdown",
   "metadata": {},
   "source": [
    "Build model with keras API"
   ]
  },
  {
   "cell_type": "code",
   "execution_count": null,
   "metadata": {},
   "outputs": [],
   "source": [
    "inputlist=[None]*100\n",
    "outputlist=[None]*100\n",
    "layer1=Dense(100,activation='relu')\n",
    "layer2=Dense(100,activation='relu')\n",
    "layer3=Dense(100,activation='relu')\n",
    "layer4=Dense(1,activation='sigmoid')\n",
    "for i in range(100):\n",
    "    inputs= Input(shape=(2,))\n",
    "    hidden1=layer1(inputs)\n",
    "    hidden2=layer2(hidden1)\n",
    "    hidden3=layer3(hidden2)\n",
    "    outputlist[i]=layer4(hidden3)\n",
    "    inputlist[i]=inputs\n",
    "predictions=concatenate(outputlist)\n",
    "model=Model(inputs=inputlist,outputs=predictions)\n",
    "print(model.summary())"
   ]
  },
  {
   "cell_type": "markdown",
   "metadata": {},
   "source": [
    "Input data to the model"
   ]
  },
  {
   "cell_type": "code",
   "execution_count": null,
   "metadata": {},
   "outputs": [],
   "source": [
    "X=[None]*100\n",
    "\n",
    "Y=S[:,1:101]-S[:,0:100]\n",
    "for i in range(100):\n",
    "    X[i]=np.concatenate((np.full((int(1e5),1),t[i]),S[:,i].reshape(int(1e5),1)), axis=1)\n"
   ]
  },
  {
   "cell_type": "markdown",
   "metadata": {},
   "source": [
    "compile model with adam algorithm"
   ]
  },
  {
   "cell_type": "code",
   "execution_count": null,
   "metadata": {},
   "outputs": [],
   "source": [
    "adam = optimizers.Adam(lr=0.0001, beta_1=0.9, beta_2=0.999, epsilon=None, decay=0.0, amsgrad=False)\n",
    "model.compile(loss=Customloss,optimizer='adam')"
   ]
  },
  {
   "cell_type": "markdown",
   "metadata": {},
   "source": [
    "model fitting"
   ]
  },
  {
   "cell_type": "code",
   "execution_count": null,
   "metadata": {},
   "outputs": [],
   "source": [
    "model.fit(X,Y,validation_split=0.1,epochs=200,batch_size=100,verbose=1)"
   ]
  },
  {
   "cell_type": "markdown",
   "metadata": {},
   "source": [
    "model analysis with plots"
   ]
  },
  {
   "cell_type": "code",
   "execution_count": null,
   "metadata": {},
   "outputs": [],
   "source": [
    "def hedgeerror(trueval,predictions):\n",
    "    loss=np.zeros(10000)\n",
    "    for i in range(10000):\n",
    "        loss[i]=V_0+np.sum(predictions[i,:]*trueval[i,:],axis=-1)-np.maximum(S0+np.sum(trueval[i,:],axis=-1)-8,0.)\n",
    "    return loss"
   ]
  },
  {
   "cell_type": "code",
   "execution_count": null,
   "metadata": {},
   "outputs": [],
   "source": [
    "hedge_error=hedgeerror(Y[90000:100000,:],prediction[90000:100000,:])"
   ]
  },
  {
   "cell_type": "code",
   "execution_count": null,
   "metadata": {},
   "outputs": [],
   "source": [
    "Delta_error=hedgeerror(Y[90000:100000,:],Delta[90000:100000,:])"
   ]
  },
  {
   "cell_type": "code",
   "execution_count": null,
   "metadata": {},
   "outputs": [],
   "source": [
    "n, bins, patches = plt.hist(hedge_error,80, density=True,color='green', alpha=0.6,label='Model hedging error ')\n",
    "n, bins, patches = plt.hist(Delta_error,80, density=True,color='red', alpha=0.6,label='BS hedging error')\n",
    "plt.xlabel('Hedging error')\n",
    "plt.ylabel('Density')\n",
    "plt.title('Histogram of hedging error')\n",
    "plt.legend()\n",
    "plt.grid(True)"
   ]
  },
  {
   "cell_type": "code",
   "execution_count": null,
   "metadata": {},
   "outputs": [],
   "source": [
    "Stest=np.linspace(7,14,71)\n",
    "D=np.zeros((71,100))\n",
    "for i in range(71):\n",
    "    for j in range(100):\n",
    "        D[i,j]=ss.norm.cdf(d1(Stest[i],8,0,0.1,1,t[j]))\n",
    "Xt=[None]*71\n",
    "for j in range(71):\n",
    "    Xtest=[None]*100\n",
    "    for i in range(100):\n",
    "        Xtest[i]=np.array([[t[i],Stest[j]]])\n",
    "    Xt[j]=Xtest\n",
    "Stock,time=np.meshgrid(Stest,t[0:100])"
   ]
  },
  {
   "cell_type": "code",
   "execution_count": null,
   "metadata": {},
   "outputs": [],
   "source": [
    "plt.rcParams['figure.figsize']=\"15,7\"\n",
    "plt.rcParams.update({'font.size': 20})\n",
    "plt.rcParams['axes.labelpad'] = 20\n",
    "figd = plt.figure()\n",
    "ax = Axes3D(figd)\n",
    "ax.plot_surface(Stock, time,np.transpose(d), rstride=1, cstride=1, cmap=cm.coolwarm, shade='interp')\n",
    "plt.title('Model Delta')\n",
    "ax.view_init(27, -125)\n",
    "\n",
    "\n",
    "ax.set_xlabel('Stock Price')\n",
    "ax.set_ylabel('Time to Maturity')\n",
    "ax.set_zlabel('Delta')"
   ]
  },
  {
   "cell_type": "markdown",
   "metadata": {},
   "source": [
    "# Model 2: unknown sigma in the Black-Schole model "
   ]
  },
  {
   "cell_type": "markdown",
   "metadata": {},
   "source": [
    "data simulation"
   ]
  },
  {
   "cell_type": "code",
   "execution_count": null,
   "metadata": {},
   "outputs": [],
   "source": [
    "Sigma=0.3+0.1*np.random.rand(100000,1)\n",
    "S_current=np.zeros((100000,101))\n",
    "for i in range(100000):\n",
    "    S_current[i,:]=  S0*np.exp((mu-1/2*Sigma[i,:]**2)*t+Sigma[i,:]*W[i,:])  "
   ]
  },
  {
   "cell_type": "code",
   "execution_count": null,
   "metadata": {},
   "outputs": [],
   "source": [
    "W_incre1=np.random.normal(0,(1/1000)**0.5,(int(1e5),300))\n",
    "W1=np.concatenate((np.zeros((int(1e5),1)),np.cumsum(W_incre1,axis=1)),axis=1)\n",
    "S_hist=np.zeros((100000,301))\n",
    "for i in range(100000):\n",
    "    S_hist[i,:]=  S0*np.exp((mu-1/2*Sigma[i,:]**2)*t1+Sigma[i,:]*W1[i,:])  \n",
    "R_hist=np.zeros((100000,300))\n",
    "for i in range(10000):\n",
    "    R_hist[i,:]=(S_hist[i,1:301]-S_hist[i,0:300])/S_hist[i,0:300]"
   ]
  },
  {
   "cell_type": "code",
   "execution_count": null,
   "metadata": {},
   "outputs": [],
   "source": [
    "plt.rcParams.update({'font.size': 14})\n",
    "plt.plot(t,S_current[0,:],t,S_current[1,:],t,S_current[2,:],t,S_current[3,:],t,S_current[4,:])\n",
    "plt.title('5 Simulated stock paths ')\n",
    "plt.xlabel('time')\n",
    "plt.ylabel('price')\n"
   ]
  },
  {
   "cell_type": "code",
   "execution_count": null,
   "metadata": {},
   "outputs": [],
   "source": [
    "plt.plot(t1,S_hist[0,:],t1,S_hist[1,:],t1,S_hist[2,:],t1,S_hist[3,:],t1,S_hist[4,:])\n",
    "plt.title('5 Simulated stock paths ')\n",
    "plt.xlabel('time')\n",
    "plt.ylabel('price')"
   ]
  },
  {
   "cell_type": "markdown",
   "metadata": {},
   "source": [
    "Black-Scholes delta"
   ]
  },
  {
   "cell_type": "code",
   "execution_count": null,
   "metadata": {},
   "outputs": [],
   "source": [
    "Delta1=np.zeros((100000,100))\n",
    "for i in range(100000):\n",
    "    for j in range(100):\n",
    "        Delta1[i,j]=ss.norm.cdf(d1(S_current[i,j],12,0,Sigma[i,0],1,t[j]))"
   ]
  },
  {
   "cell_type": "markdown",
   "metadata": {},
   "source": [
    "call option prices"
   ]
  },
  {
   "cell_type": "code",
   "execution_count": null,
   "metadata": {},
   "outputs": [],
   "source": [
    "V0arr=np.zeros((100000,1))\n",
    "\n",
    "for i in range(100000):\n",
    "     V0arr[i,:]=BlackScholes(\"C\",10,10,0,Sigma[i,0],1,0)"
   ]
  },
  {
   "cell_type": "markdown",
   "metadata": {},
   "source": [
    "The model which uses Sigma as a input directly"
   ]
  },
  {
   "cell_type": "markdown",
   "metadata": {},
   "source": [
    "layer specification"
   ]
  },
  {
   "cell_type": "code",
   "execution_count": null,
   "metadata": {},
   "outputs": [],
   "source": [
    "inputlist=[None]*102\n",
    "outputlist=[None]*100\n",
    "\n",
    "input_V0=Input(shape=(1,),name='input_V0')\n",
    "\n",
    "input_sigma=Input(shape=(1,),name='input_sigma')\n",
    "\n",
    "layer1=Dense(100,activation='relu')\n",
    "layer2=Dense(100,activation='relu')\n",
    "layer3=Dense(1,activation='sigmoid')\n",
    "inputlist[100]=input_V0\n",
    "inputlist[101]=input_sigma\n",
    "\n",
    "for i in range(100):\n",
    "    inputs=Input(shape=(2,))\n",
    "    merge=keras.layers.concatenate([inputs, input_sigma])\n",
    "\n",
    "    hidden6=layer1(merge)\n",
    "    hidden7=layer2(hidden6)\n",
    "    \n",
    "    outputlist[i]=layer3(hidden7)\n",
    "    \n",
    "    inputlist[i]=inputs\n",
    "predictions=concatenate(outputlist)\n",
    "model3=Model(inputs=inputlist,outputs=predictions)"
   ]
  },
  {
   "cell_type": "markdown",
   "metadata": {},
   "source": [
    "Loss function"
   ]
  },
  {
   "cell_type": "code",
   "execution_count": null,
   "metadata": {},
   "outputs": [],
   "source": [
    "def newloss(V_0):\n",
    "    def Customloss(y_true,y_pred):\n",
    "        loss= K.square(V_0+K.sum(y_pred*y_true,axis=-1)-K.maximum(S0+K.sum(y_true,axis=-1)-10,0.))\n",
    "        return loss\n",
    "    return Customloss"
   ]
  },
  {
   "cell_type": "markdown",
   "metadata": {},
   "source": [
    "Input data"
   ]
  },
  {
   "cell_type": "code",
   "execution_count": null,
   "metadata": {},
   "outputs": [],
   "source": [
    "X=[None]*102\n",
    "\n",
    "Y=S_current[:,1:101]-S_current[:,0:100]\n",
    "for i in range(100):\n",
    "    X[i]=np.concatenate((np.full((100000,1),t[i]),S_current[:,i].reshape(100000,1)), axis=1)\n",
    "X[100]=V0arr\n",
    "X[101]=Sigma"
   ]
  },
  {
   "cell_type": "code",
   "execution_count": null,
   "metadata": {},
   "outputs": [],
   "source": [
    "adam = optimizers.Adam(lr=0.0001, beta_1=0.9, beta_2=0.999, epsilon=None, decay=0.0, amsgrad=False)\n",
    "model3.compile(loss=newloss(input_V0),optimizer='adam')"
   ]
  },
  {
   "cell_type": "code",
   "execution_count": null,
   "metadata": {},
   "outputs": [],
   "source": [
    "model3.fit(X,Y,validation_split=0.1,epochs=30,batch_size=100,verbose=1)"
   ]
  },
  {
   "cell_type": "code",
   "execution_count": null,
   "metadata": {},
   "outputs": [],
   "source": [
    "Portfolio3=model3.predict(X)"
   ]
  },
  {
   "cell_type": "markdown",
   "metadata": {},
   "source": [
    "Model uses historical data"
   ]
  },
  {
   "cell_type": "code",
   "execution_count": null,
   "metadata": {},
   "outputs": [],
   "source": [
    "inputlist=[None]*102\n",
    "outputlist=[None]*100\n",
    "\n",
    "input_V0=Input(shape=(1,),name='input_V0')\n",
    "input_hist=Input(shape=(300,),name='R_hist')\n",
    "\n",
    "hidden1=Dense(2000,activation='relu')(input_hist)\n",
    "hidden2=Dense(1000,activation='relu')(hidden1)\n",
    "hidden3=Dense(200,activation='relu')(hidden2)\n",
    "\n",
    "sigma=Dense(1,activation='sigmoid')(hidden3)\n",
    "\n",
    "layer1=Dense(100,activation='relu')\n",
    "layer2=Dense(100,activation='relu')\n",
    "layer3=Dense(1,activation='sigmoid')\n",
    "inputlist[100]=input_V0\n",
    "inputlist[101]=input_hist\n",
    "\n",
    "for i in range(100):\n",
    "    inputs=Input(shape=(2,))\n",
    "    merge=keras.layers.concatenate([inputs, sigma])\n",
    "\n",
    "    hidden6=layer1(merge)\n",
    "    hidden7=layer2(hidden6)\n",
    "    \n",
    "    outputlist[i]=layer3(hidden7)\n",
    "    \n",
    "    inputlist[i]=inputs\n",
    "predictions=concatenate(outputlist)\n",
    "model2=Model(inputs=inputlist,outputs=predictions)"
   ]
  },
  {
   "cell_type": "code",
   "execution_count": null,
   "metadata": {},
   "outputs": [],
   "source": [
    "def newloss(V_0):\n",
    "    def Customloss(y_true,y_pred):\n",
    "        loss= K.square(V_0+K.sum(y_pred*y_true,axis=-1)-K.maximum(S0+K.sum(y_true,axis=-1)-10,0.))\n",
    "        return loss\n",
    "    return Customloss"
   ]
  },
  {
   "cell_type": "code",
   "execution_count": null,
   "metadata": {},
   "outputs": [],
   "source": [
    "X=[None]*102\n",
    "\n",
    "Y=S_current[:,1:101]-S_current[:,0:100]\n",
    "for i in range(100):\n",
    "    X[i]=np.concatenate((np.full((100000,1),t[i]),S_current[:,i].reshape(100000,1)), axis=1)\n",
    "X[100]=V0arr \n",
    "X[101]=R_hist\n"
   ]
  },
  {
   "cell_type": "code",
   "execution_count": null,
   "metadata": {},
   "outputs": [],
   "source": [
    "adam = optimizers.Adam(lr=0.0001, beta_1=0.9, beta_2=0.999, epsilon=None, decay=0.0, amsgrad=False)\n",
    "model2.compile(loss=newloss(input_V0),optimizer='adam')"
   ]
  },
  {
   "cell_type": "code",
   "execution_count": null,
   "metadata": {},
   "outputs": [],
   "source": [
    "model2.fit(X,Y,validation_split=0.1,epochs=30,batch_size=100,verbose=1)"
   ]
  },
  {
   "cell_type": "code",
   "execution_count": null,
   "metadata": {},
   "outputs": [],
   "source": [
    "Portfolio2=model2.predict(X)"
   ]
  },
  {
   "cell_type": "markdown",
   "metadata": {},
   "source": [
    "Some plots for analysing data"
   ]
  },
  {
   "cell_type": "code",
   "execution_count": null,
   "metadata": {},
   "outputs": [],
   "source": [
    "plt.plot(t[0:100],Portfolio2[55296,:],label='Model Delta')\n",
    "plt.plot(t[0:100],Delta1[55296,:],label='BS Delta')\n",
    "plt.legend(loc='lower right')\n",
    "plt.title('BS delta against Neural network delta of a sampel trajectory with sigma=0.40')\n",
    "plt.xlabel('time')\n",
    "plt.ylabel('hedging ratio')\n",
    "plt.legend()"
   ]
  },
  {
   "cell_type": "code",
   "execution_count": null,
   "metadata": {},
   "outputs": [],
   "source": [
    "S05=S_current[9000:10000,50]\n",
    "Delta05=Delta1[9000:10000,50]\n",
    "Portfolio05=Portfolio2[9000:10000,50]\n",
    "Delsig=Portfolio3[9000:10000,50]"
   ]
  },
  {
   "cell_type": "code",
   "execution_count": null,
   "metadata": {},
   "outputs": [],
   "source": [
    "plt.rcParams['figure.figsize']=\"13,8\"\n",
    "plt.rcParams.update({'font.size': 15})\n",
    "plt.rcParams['axes.labelpad'] = 25\n",
    "figd = plt.figure()\n",
    "ax = figd.add_subplot(111, projection='3d')\n",
    "ax.scatter(S05, Sigma[9000:10000,0],Portfolio05 , c='r',label='model delta')\n",
    "ax.scatter(S05, Sigma[9000:10000,0],Delta05 , c='b',label='BS delta')\n",
    "ax.set_xlabel('Stock Price')\n",
    "ax.set_ylabel('Sigma')\n",
    "ax.set_zlabel('Delta')\n",
    "plt.legend()\n",
    "plt.title('Model Delta vs BS Delta')\n",
    "plt.show()"
   ]
  },
  {
   "cell_type": "code",
   "execution_count": null,
   "metadata": {},
   "outputs": [],
   "source": [
    "def hedgeerror(trueval,predictions,arr):\n",
    "    loss=np.zeros(10000)\n",
    "    for i in range(10000):\n",
    "        loss[i]=arr[i,:]+np.sum(predictions[i,:]*trueval[i,:],axis=-1)-np.maximum(S0+np.sum(trueval[i,:],axis=-1)-12,0.)\n",
    "    return loss"
   ]
  },
  {
   "cell_type": "code",
   "execution_count": null,
   "metadata": {},
   "outputs": [],
   "source": [
    "n, bins, patches = plt.hist(model_error,80, density=True,color='green', alpha=0.6,label='Model hedging error(using historical data)   ')\n",
    "n, bins, patches = plt.hist(Delta_error,80, density=True,color='red', alpha=0.6,label='BS hedging error')\n",
    "plt.xlabel('Hedging error')\n",
    "plt.ylabel('Density')\n",
    "plt.title('Histogram of hedging error')\n",
    "plt.legend()\n",
    "plt.grid(True)"
   ]
  },
  {
   "cell_type": "markdown",
   "metadata": {},
   "source": [
    "# Model 3: fixed sigma in an incomplete model"
   ]
  },
  {
   "cell_type": "markdown",
   "metadata": {},
   "source": [
    "data simulations"
   ]
  },
  {
   "cell_type": "code",
   "execution_count": null,
   "metadata": {},
   "outputs": [],
   "source": [
    "S0=10\n",
    "strike=10\n",
    "mu1=0\n",
    "sigma1=0.3\n",
    "S1=S0*np.exp((mu1-1/2*sigma1**2)*t+sigma1*W)"
   ]
  },
  {
   "cell_type": "code",
   "execution_count": null,
   "metadata": {},
   "outputs": [],
   "source": [
    "plt.plot(t,S1[0,:],t,S1[1,:],t,S1[2,:],t,S1[3,:],t,S1[4,:])\n",
    "plt.title('5 Simulated stock paths ')\n",
    "plt.xlabel('time')\n",
    "plt.ylabel('price')"
   ]
  },
  {
   "cell_type": "markdown",
   "metadata": {},
   "source": [
    "define loss funtion with exponential utility function, no transaction cost"
   ]
  },
  {
   "cell_type": "code",
   "execution_count": null,
   "metadata": {},
   "outputs": [],
   "source": [
    "lam=0.1\n",
    "def Utilityloss1(y_true,y_pred):\n",
    "        loss= K.exp(-lam*(K.sum(y_pred*y_true,axis=-1)-K.maximum(S0+K.sum(y_true,axis=-1)-strike,0.)))\n",
    "        return loss\n",
    "def Utilityloss2(y_true,y_pred):\n",
    "    loss=K.exp(-lam*K.sum(y_pred*y_true,axis=-1))\n",
    "    return loss"
   ]
  },
  {
   "cell_type": "code",
   "execution_count": null,
   "metadata": {},
   "outputs": [],
   "source": [
    "inputlist=[None]*100\n",
    "outputlist=[None]*100\n",
    "layer1=Dense(100,activation='relu')\n",
    "layer2=Dense(100,activation='relu')\n",
    "layer3=Dense(100,activation='relu')\n",
    "layer4=Dense(1,activation='sigmoid')\n",
    "for i in range(100):\n",
    "    inputs= Input(shape=(2,))\n",
    "    hidden1=layer1(inputs)\n",
    "    hidden2=layer2(hidden1)\n",
    "    hidden3=layer3(hidden2)\n",
    "    outputlist[i]=layer4(hidden3)\n",
    "    inputlist[i]=inputs\n",
    "predictions=concatenate(outputlist)\n",
    "model4=Model(inputs=inputlist,outputs=predictions)"
   ]
  },
  {
   "cell_type": "code",
   "execution_count": null,
   "metadata": {},
   "outputs": [],
   "source": [
    "inputlist=[None]*100\n",
    "outputlist=[None]*100\n",
    "layer1=Dense(100,activation='relu')\n",
    "layer2=Dense(100,activation='relu')\n",
    "layer3=Dense(100,activation='relu')\n",
    "layer4=Dense(1,activation='sigmoid')\n",
    "\n",
    "for i in range(100):\n",
    "    inputs= Input(shape=(2,))\n",
    "    hidden1=layer1(inputs)\n",
    "    hidden2=layer2(hidden1)\n",
    "    hidden3=layer3(hidden2)\n",
    "    outputlist[i]=layer4(hidden3)\n",
    "    inputlist[i]=inputs\n",
    "predictions=concatenate(outputlist)\n",
    "model5=Model(inputs=inputlist,outputs=predictions)"
   ]
  },
  {
   "cell_type": "code",
   "execution_count": null,
   "metadata": {},
   "outputs": [],
   "source": [
    "X=[None]*100\n",
    "\n",
    "Y=S1[:,1:101]-S1[:,0:100]\n",
    "for i in range(100):\n",
    "    X[i]=np.concatenate((np.full((int(1e5),1),t[i]),S1[:,i].reshape(int(1e5),1)), axis=1)"
   ]
  },
  {
   "cell_type": "code",
   "execution_count": null,
   "metadata": {},
   "outputs": [],
   "source": [
    "adam = optimizers.Adam(lr=0.00001, beta_1=0.9, beta_2=0.999, epsilon=None, decay=0.0, amsgrad=False)\n",
    "model4.compile(loss=Utilityloss1,optimizer='adam')\n",
    "model5.compile(loss=Utilityloss2,optimizer='adam')"
   ]
  },
  {
   "cell_type": "code",
   "execution_count": null,
   "metadata": {},
   "outputs": [],
   "source": [
    "model4.fit(X,Y,validation_split=0.1,epochs=20,batch_size=100,verbose=1)"
   ]
  },
  {
   "cell_type": "code",
   "execution_count": null,
   "metadata": {},
   "outputs": [],
   "source": [
    "model5.fit(X,Y,epochs=3,batch_size=1000,verbose=1)"
   ]
  },
  {
   "cell_type": "code",
   "execution_count": null,
   "metadata": {},
   "outputs": [],
   "source": [
    "Portfolio05=model2.predict(X)"
   ]
  },
  {
   "cell_type": "markdown",
   "metadata": {},
   "source": [
    "indifference pricing"
   ]
  },
  {
   "cell_type": "code",
   "execution_count": null,
   "metadata": {},
   "outputs": [],
   "source": [
    "P_0=1/lam*np.log(model2.evaluate(X,Y))"
   ]
  },
  {
   "cell_type": "markdown",
   "metadata": {},
   "source": [
    "some plots for analysing"
   ]
  },
  {
   "cell_type": "code",
   "execution_count": null,
   "metadata": {},
   "outputs": [],
   "source": [
    "def hedgeerror(trueval,predictions):\n",
    "    loss=np.zeros(10000)\n",
    "    for i in range(10000):\n",
    "        loss[i]=P_0+np.sum(predictions[i,:]*trueval[i,:],axis=-1)-np.maximum(S0+np.sum(trueval[i,:],axis=-1)-10,0.)\n",
    "    return loss"
   ]
  },
  {
   "cell_type": "code",
   "execution_count": null,
   "metadata": {},
   "outputs": [],
   "source": [
    "exp_pl3=hedgeerror(Y[90000:100000,:],Portfolio3[90000:100000,:])"
   ]
  },
  {
   "cell_type": "code",
   "execution_count": null,
   "metadata": {},
   "outputs": [],
   "source": [
    "plt.rcParams['figure.figsize']=\"15,7\"\n",
    "plt.rcParams.update({'font.size': 20})\n",
    "plt.rcParams['axes.labelpad'] = 20\n",
    "n, bins, patches = plt.hist(exp_pl01,80, density=True,color='green', alpha=0.4,label=' $\\lambda=0.01$')\n",
    "n, bins, patches = plt.hist(exp_pl05,80, density=True,color='red', alpha=0.4,label='$\\lambda=0.5$')\n",
    "n, bins, patches = plt.hist(exp_pl1,80, density=True,color='blue', alpha=0.4,label='$\\lambda=1$')\n",
    "plt.xlabel('Profit & LOss')\n",
    "plt.ylabel('Density')\n",
    "plt.title('Profit & Loss for different risk-aversion parameter ')\n",
    "plt.legend()\n",
    "plt.grid(True)"
   ]
  },
  {
   "cell_type": "code",
   "execution_count": null,
   "metadata": {},
   "outputs": [],
   "source": [
    "d1=np.zeros((71,100))\n",
    "for i in range(71):\n",
    "    d1[i,:]=model2.predict(Xt[i])"
   ]
  },
  {
   "cell_type": "code",
   "execution_count": null,
   "metadata": {},
   "outputs": [],
   "source": [
    "plt.rcParams['figure.figsize']=\"15,7\"\n",
    "plt.rcParams.update({'font.size': 20})\n",
    "plt.rcParams['axes.labelpad'] = 20\n",
    "figd = plt.figure()\n",
    "ax = Axes3D(figd)\n",
    "ax.plot_surface(Stock, time,np.transpose(d05), rstride=1, cstride=1, cmap=cm.coolwarm, shade='interp')\n",
    "plt.title(' Hedgeing Strategy for $\\lambda=0.5$')\n",
    "ax.view_init(27, -125)\n",
    "\n",
    "\n",
    "ax.set_xlabel('Stock Price')\n",
    "ax.set_ylabel('Time')\n",
    "ax.set_zlabel('Hedging ratio')"
   ]
  },
  {
   "cell_type": "markdown",
   "metadata": {},
   "source": [
    "Model with proportional transaction costs"
   ]
  },
  {
   "cell_type": "code",
   "execution_count": null,
   "metadata": {},
   "outputs": [],
   "source": [
    "lam=0.5\n",
    "c=0.02\n",
    "def loss_cost1(stock):\n",
    "    def Utilityloss3(y_true,y_pred):\n",
    "        y_incre=y_pred-K.concatenate([K.zeros(shape=(100,1)),y_pred[:,:100]],axis=-1)\n",
    "        loss= K.exp(-lam*(K.sum(y_pred[:,:100]*y_true,axis=-1)-K.maximum(S0+K.sum(y_true,axis=-1)-strike,0.)-c*(K.sum(K.abs(y_incre)*stock,axis=-1))))\n",
    "        return loss\n",
    "    return Utilityloss3\n",
    "def loss_cost2(stock):                   \n",
    "    def Utilityloss4(y_true,y_pred):\n",
    "        y_incre=y_pred-K.concatenate([K.zeros(shape=(100,1)),y_pred[:,:100]],axis=-1)\n",
    "        loss=K.exp(-lam*(K.sum(y_pred[:,:100]*y_true,axis=-1)-c*(K.sum(K.abs(y_incre)*stock,axis=-1))))\n",
    "        return loss\n",
    "    return Utilityloss4"
   ]
  },
  {
   "cell_type": "code",
   "execution_count": null,
   "metadata": {},
   "outputs": [],
   "source": [
    "inputlist1=[None]*102\n",
    "outputlist1=[None]*101\n",
    "input_S1=Input(shape=(101,),name='input_S1')\n",
    "\n",
    "layer1=Dense(100,activation='relu',name='layer1')\n",
    "layer2=Dense(100,activation='relu',name='layer2')\n",
    "layer3=Dense(100,activation='relu',name='layer3')\n",
    "layer4=Dense(1,activation='sigmoid',name='layer4')\n",
    "\n",
    "inputlist1[101]=input_S1\n",
    "for i in range(101):\n",
    "    inputs= Input(shape=(2,))\n",
    "    hidden1=layer1(inputs)\n",
    "    hidden2=layer2(hidden1)\n",
    "    hidden3=layer3(hidden2)\n",
    "    outputlist1[i]=layer4(hidden3)\n",
    "    inputlist1[i]=inputs\n",
    "predictions=concatenate(outputlist1)\n",
    "model_cost1=Model(inputs=inputlist1,outputs=predictions)"
   ]
  },
  {
   "cell_type": "code",
   "execution_count": null,
   "metadata": {},
   "outputs": [],
   "source": [
    "inputlist2=[None]*102\n",
    "outputlist2=[None]*101\n",
    "input_S2=Input(shape=(101,),name='input_S2')\n",
    "layer1=Dense(100,activation='relu',name='layer1')\n",
    "layer2=Dense(100,activation='relu',name='layer2')\n",
    "layer3=Dense(100,activation='relu',name='layer3')\n",
    "layer4=Dense(1,activation='sigmoid',name='layer4')\n",
    "inputlist2[101]=input_S2\n",
    "for i in range(101):\n",
    "    inputs= Input(shape=(2,))\n",
    "    hidden1=layer1(inputs)\n",
    "    hidden2=layer2(hidden1)\n",
    "    hidden3=layer3(hidden2)\n",
    "    outputlist2[i]=layer4(hidden3)\n",
    "    inputlist2[i]=inputs\n",
    "predictions=concatenate(outputlist2)\n",
    "model_cost2=Model(inputs=inputlist2,outputs=predictions)"
   ]
  },
  {
   "cell_type": "code",
   "execution_count": null,
   "metadata": {},
   "outputs": [],
   "source": [
    "X=[None]*102\n",
    "\n",
    "Y=S1[:,1:101]-S1[:,0:100]\n",
    "for i in range(101):\n",
    "    X[i]=np.concatenate((np.full((int(1e5),1),t[i]),S1[:,i].reshape(int(1e5),1)), axis=1)\n",
    "X[101]=S1[:,0:101]"
   ]
  },
  {
   "cell_type": "code",
   "execution_count": null,
   "metadata": {},
   "outputs": [],
   "source": [
    "adam = optimizers.Adam(lr=0.001, beta_1=0.9, beta_2=0.999, epsilon=None, decay=0.0, amsgrad=False)\n",
    "model_cost1.compile(loss=loss_cost1(input_S1),optimizer='adam')"
   ]
  },
  {
   "cell_type": "code",
   "execution_count": null,
   "metadata": {},
   "outputs": [],
   "source": [
    "model_cost1.fit(X,Y,validation_split=0.1,epochs=50,batch_size=100,verbose=1)"
   ]
  },
  {
   "cell_type": "code",
   "execution_count": null,
   "metadata": {},
   "outputs": [],
   "source": [
    "adam = optimizers.Adam(lr=0.001, beta_1=0.9, beta_2=0.999, epsilon=None, decay=0.0, amsgrad=False)\n",
    "model_cost2.compile(loss=loss_cost2(input_S2),optimizer='adam')\n"
   ]
  },
  {
   "cell_type": "code",
   "execution_count": null,
   "metadata": {},
   "outputs": [],
   "source": [
    "model_cost2.fit(X,Y,epochs=2,batch_size=100,verbose=1)"
   ]
  },
  {
   "cell_type": "markdown",
   "metadata": {},
   "source": [
    "indifference pricing"
   ]
  },
  {
   "cell_type": "code",
   "execution_count": null,
   "metadata": {},
   "outputs": [],
   "source": [
    "P_0=1/lam*np.log(model_cost1.evaluate(X,Y,batch_size=100))"
   ]
  },
  {
   "cell_type": "code",
   "execution_count": null,
   "metadata": {},
   "outputs": [],
   "source": [
    "Portfolio1_cost05=model_cost1.predict(X)"
   ]
  },
  {
   "cell_type": "markdown",
   "metadata": {},
   "source": [
    "plots"
   ]
  },
  {
   "cell_type": "code",
   "execution_count": null,
   "metadata": {},
   "outputs": [],
   "source": [
    "Xt=[None]*71\n",
    "for j in range(71):\n",
    "    Xtest=[None]*102\n",
    "    for i in range(101):\n",
    "        Xtest[i]=np.array([[t[i],Stest[j]]])\n",
    "    Xtest[101]=S1    \n",
    "    Xt[j]=Xtest"
   ]
  },
  {
   "cell_type": "code",
   "execution_count": null,
   "metadata": {},
   "outputs": [],
   "source": [
    "d1=np.zeros((71,101))\n",
    "for i in range(71):\n",
    "    d1[i,:]=model_cost1.predict(Xt[i])"
   ]
  },
  {
   "cell_type": "code",
   "execution_count": null,
   "metadata": {},
   "outputs": [],
   "source": [
    "Stock,time=np.meshgrid(Stest,t[0:101])"
   ]
  },
  {
   "cell_type": "code",
   "execution_count": null,
   "metadata": {},
   "outputs": [],
   "source": [
    "plt.rcParams['figure.figsize']=\"15,7\"\n",
    "plt.rcParams.update({'font.size': 20})\n",
    "plt.rcParams['axes.labelpad'] = 20\n",
    "figd = plt.figure()\n",
    "ax = Axes3D(figd)\n",
    "ax.plot_surface(Stock, time,np.transpose(d1), rstride=1, cstride=1, cmap=cm.coolwarm, shade='interp')\n",
    "plt.title(' Hedgeing Strategy for $\\lambda=1$ with transaction cost')\n",
    "ax.view_init(27, -125)\n",
    "\n",
    "ax.set_zlim([0,1])\n",
    "ax.set_xlabel('Stock Price')\n",
    "ax.set_ylabel('Time ')\n",
    "ax.set_zlabel('Hedging ratio')"
   ]
  },
  {
   "cell_type": "code",
   "execution_count": null,
   "metadata": {},
   "outputs": [],
   "source": [
    "def hedgeerror(trueval,predictions,stock):\n",
    "    loss=np.zeros(100000)\n",
    "    for i in range(100000):\n",
    "        y_incre=predictions[i,:]-np.concatenate([np.zeros(1),predictions[i,:100]],axis=-1)\n",
    "        loss[i]=p1_05+np.sum(predictions[i,:100]*trueval[i,:],axis=-1)-np.maximum(S0+np.sum(trueval[i,:],axis=-1)-10,0.)-c*(np.sum(np.abs(y_incre)*stock[i,:],axis=-1))\n",
    "    return loss"
   ]
  },
  {
   "cell_type": "code",
   "execution_count": null,
   "metadata": {},
   "outputs": [],
   "source": [
    "pl1_cost05=hedgeerror(Y,Portfolio1_cost05,S1)"
   ]
  },
  {
   "cell_type": "code",
   "execution_count": null,
   "metadata": {},
   "outputs": [],
   "source": [
    "plt.rcParams['figure.figsize']=\"15,7\"\n",
    "plt.rcParams.update({'font.size': 20})\n",
    "plt.rcParams['axes.labelpad'] = 20\n",
    "n, bins, patches = plt.hist(pl1_cost01,80, density=True,color='green', alpha=0.4,label=' $\\lambda=0.1$')\n",
    "n, bins, patches = plt.hist(pl1_cost05,80, density=True,color='red', alpha=0.4,label='$\\lambda=0.5$')\n",
    "n, bins, patches = plt.hist(pl1_cost1,80, density=True,color='blue', alpha=0.4,label='$\\lambda=1$')\n",
    "plt.xlabel('Profit & LOss')\n",
    "plt.ylabel('Density')\n",
    "plt.title('Profit & Loss for different risk-aversion parameter with transaction cost')\n",
    "plt.legend()\n",
    "plt.grid(True)"
   ]
  }
 ],
 "metadata": {
  "kernelspec": {
   "display_name": "Python 3",
   "language": "python",
   "name": "python3"
  },
  "language_info": {
   "codemirror_mode": {
    "name": "ipython",
    "version": 3
   },
   "file_extension": ".py",
   "mimetype": "text/x-python",
   "name": "python",
   "nbconvert_exporter": "python",
   "pygments_lexer": "ipython3",
   "version": "3.6.4"
  }
 },
 "nbformat": 4,
 "nbformat_minor": 2
}
